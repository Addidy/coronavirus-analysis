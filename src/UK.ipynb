{
 "cells": [
  {
   "cell_type": "code",
   "execution_count": 1,
   "metadata": {},
   "outputs": [],
   "source": [
    "import utilities as u\n",
    "import pandas as pd\n",
    "import sys\n",
    "import matplotlib.pyplot as plt\n",
    "import numpy as np\n",
    "import analyzer as anlzr\n",
    "%matplotlib inline"
   ]
  },
  {
   "cell_type": "code",
   "execution_count": 2,
   "metadata": {},
   "outputs": [
    {
     "name": "stdout",
     "output_type": "stream",
     "text": [
      "Getting latest data...\n",
      "Already up to date.\n"
     ]
    }
   ],
   "source": [
    "dl = anlzr.DataDownloader()"
   ]
  },
  {
   "cell_type": "code",
   "execution_count": 3,
   "metadata": {},
   "outputs": [
    {
     "data": {
      "text/html": [
       "<div>\n",
       "<style scoped>\n",
       "    .dataframe tbody tr th:only-of-type {\n",
       "        vertical-align: middle;\n",
       "    }\n",
       "\n",
       "    .dataframe tbody tr th {\n",
       "        vertical-align: top;\n",
       "    }\n",
       "\n",
       "    .dataframe thead th {\n",
       "        text-align: right;\n",
       "    }\n",
       "</style>\n",
       "<table border=\"1\" class=\"dataframe\">\n",
       "  <thead>\n",
       "    <tr style=\"text-align: right;\">\n",
       "      <th></th>\n",
       "      <th>confirmed_total</th>\n",
       "      <th>death_total</th>\n",
       "      <th>recovered_total</th>\n",
       "      <th>current_infected_total</th>\n",
       "      <th>confirmed_change</th>\n",
       "      <th>death_change</th>\n",
       "      <th>recovered_change</th>\n",
       "      <th>current_infected_change</th>\n",
       "      <th>confirmed_change%</th>\n",
       "      <th>death_change%</th>\n",
       "      <th>recovered_change%</th>\n",
       "      <th>current_infected_change%</th>\n",
       "      <th>confirmed_change%3a</th>\n",
       "      <th>death_change%3a</th>\n",
       "      <th>recovered_change%3a</th>\n",
       "      <th>current_infected_change%3a</th>\n",
       "      <th>lethality</th>\n",
       "    </tr>\n",
       "    <tr>\n",
       "      <th>date</th>\n",
       "      <th></th>\n",
       "      <th></th>\n",
       "      <th></th>\n",
       "      <th></th>\n",
       "      <th></th>\n",
       "      <th></th>\n",
       "      <th></th>\n",
       "      <th></th>\n",
       "      <th></th>\n",
       "      <th></th>\n",
       "      <th></th>\n",
       "      <th></th>\n",
       "      <th></th>\n",
       "      <th></th>\n",
       "      <th></th>\n",
       "      <th></th>\n",
       "      <th></th>\n",
       "    </tr>\n",
       "  </thead>\n",
       "  <tbody>\n",
       "    <tr>\n",
       "      <th>2020-03-02</th>\n",
       "      <td>40</td>\n",
       "      <td>0</td>\n",
       "      <td>8</td>\n",
       "      <td>32</td>\n",
       "      <td>4.0</td>\n",
       "      <td>0.0</td>\n",
       "      <td>0.0</td>\n",
       "      <td>4.0</td>\n",
       "      <td>0.111111</td>\n",
       "      <td>NaN</td>\n",
       "      <td>0.0</td>\n",
       "      <td>0.142857</td>\n",
       "      <td>0.289915</td>\n",
       "      <td>NaN</td>\n",
       "      <td>0.0</td>\n",
       "      <td>0.493452</td>\n",
       "      <td>0.000</td>\n",
       "    </tr>\n",
       "    <tr>\n",
       "      <th>2020-03-03</th>\n",
       "      <td>51</td>\n",
       "      <td>0</td>\n",
       "      <td>8</td>\n",
       "      <td>43</td>\n",
       "      <td>11.0</td>\n",
       "      <td>0.0</td>\n",
       "      <td>0.0</td>\n",
       "      <td>11.0</td>\n",
       "      <td>0.275000</td>\n",
       "      <td>NaN</td>\n",
       "      <td>0.0</td>\n",
       "      <td>0.343750</td>\n",
       "      <td>0.275332</td>\n",
       "      <td>NaN</td>\n",
       "      <td>0.0</td>\n",
       "      <td>0.400818</td>\n",
       "      <td>0.000</td>\n",
       "    </tr>\n",
       "    <tr>\n",
       "      <th>2020-03-04</th>\n",
       "      <td>85</td>\n",
       "      <td>0</td>\n",
       "      <td>8</td>\n",
       "      <td>77</td>\n",
       "      <td>34.0</td>\n",
       "      <td>0.0</td>\n",
       "      <td>0.0</td>\n",
       "      <td>34.0</td>\n",
       "      <td>0.666667</td>\n",
       "      <td>NaN</td>\n",
       "      <td>0.0</td>\n",
       "      <td>0.790698</td>\n",
       "      <td>0.404499</td>\n",
       "      <td>NaN</td>\n",
       "      <td>0.0</td>\n",
       "      <td>0.535993</td>\n",
       "      <td>0.000</td>\n",
       "    </tr>\n",
       "    <tr>\n",
       "      <th>2020-03-05</th>\n",
       "      <td>115</td>\n",
       "      <td>1</td>\n",
       "      <td>8</td>\n",
       "      <td>106</td>\n",
       "      <td>30.0</td>\n",
       "      <td>1.0</td>\n",
       "      <td>0.0</td>\n",
       "      <td>29.0</td>\n",
       "      <td>0.352941</td>\n",
       "      <td>inf</td>\n",
       "      <td>0.0</td>\n",
       "      <td>0.376623</td>\n",
       "      <td>0.351430</td>\n",
       "      <td>NaN</td>\n",
       "      <td>0.0</td>\n",
       "      <td>0.413482</td>\n",
       "      <td>0.125</td>\n",
       "    </tr>\n",
       "    <tr>\n",
       "      <th>2020-03-06</th>\n",
       "      <td>163</td>\n",
       "      <td>2</td>\n",
       "      <td>8</td>\n",
       "      <td>153</td>\n",
       "      <td>48.0</td>\n",
       "      <td>1.0</td>\n",
       "      <td>0.0</td>\n",
       "      <td>47.0</td>\n",
       "      <td>0.417391</td>\n",
       "      <td>1.0</td>\n",
       "      <td>0.0</td>\n",
       "      <td>0.443396</td>\n",
       "      <td>0.428000</td>\n",
       "      <td>1.0</td>\n",
       "      <td>0.0</td>\n",
       "      <td>0.488617</td>\n",
       "      <td>0.250</td>\n",
       "    </tr>\n",
       "  </tbody>\n",
       "</table>\n",
       "</div>"
      ],
      "text/plain": [
       "            confirmed_total  death_total  recovered_total  \\\n",
       "date                                                        \n",
       "2020-03-02               40            0                8   \n",
       "2020-03-03               51            0                8   \n",
       "2020-03-04               85            0                8   \n",
       "2020-03-05              115            1                8   \n",
       "2020-03-06              163            2                8   \n",
       "\n",
       "            current_infected_total  confirmed_change  death_change  \\\n",
       "date                                                                 \n",
       "2020-03-02                      32               4.0           0.0   \n",
       "2020-03-03                      43              11.0           0.0   \n",
       "2020-03-04                      77              34.0           0.0   \n",
       "2020-03-05                     106              30.0           1.0   \n",
       "2020-03-06                     153              48.0           1.0   \n",
       "\n",
       "            recovered_change  current_infected_change  confirmed_change%  \\\n",
       "date                                                                       \n",
       "2020-03-02               0.0                      4.0           0.111111   \n",
       "2020-03-03               0.0                     11.0           0.275000   \n",
       "2020-03-04               0.0                     34.0           0.666667   \n",
       "2020-03-05               0.0                     29.0           0.352941   \n",
       "2020-03-06               0.0                     47.0           0.417391   \n",
       "\n",
       "            death_change%  recovered_change%  current_infected_change%  \\\n",
       "date                                                                     \n",
       "2020-03-02            NaN                0.0                  0.142857   \n",
       "2020-03-03            NaN                0.0                  0.343750   \n",
       "2020-03-04            NaN                0.0                  0.790698   \n",
       "2020-03-05            inf                0.0                  0.376623   \n",
       "2020-03-06            1.0                0.0                  0.443396   \n",
       "\n",
       "            confirmed_change%3a  death_change%3a  recovered_change%3a  \\\n",
       "date                                                                    \n",
       "2020-03-02             0.289915              NaN                  0.0   \n",
       "2020-03-03             0.275332              NaN                  0.0   \n",
       "2020-03-04             0.404499              NaN                  0.0   \n",
       "2020-03-05             0.351430              NaN                  0.0   \n",
       "2020-03-06             0.428000              1.0                  0.0   \n",
       "\n",
       "            current_infected_change%3a  lethality  \n",
       "date                                               \n",
       "2020-03-02                    0.493452      0.000  \n",
       "2020-03-03                    0.400818      0.000  \n",
       "2020-03-04                    0.535993      0.000  \n",
       "2020-03-05                    0.413482      0.125  \n",
       "2020-03-06                    0.488617      0.250  "
      ]
     },
     "execution_count": 3,
     "metadata": {},
     "output_type": "execute_result"
    }
   ],
   "source": [
    "uk = dl.get_analyzer(include_country_regions=['UK'])\n",
    "uk.get_dataframe().tail()"
   ]
  },
  {
   "cell_type": "code",
   "execution_count": 4,
   "metadata": {},
   "outputs": [
    {
     "data": {
      "image/png": "[encoded data removed]",
      "text/plain": [
       "<Figure size 432x288 with 1 Axes>"
      ]
     },
     "metadata": {
      "needs_background": "light"
     },
     "output_type": "display_data"
    }
   ],
   "source": [
    "uk.graph_totals()"
   ]
  },
  {
   "cell_type": "code",
   "execution_count": 5,
   "metadata": {},
   "outputs": [
    {
     "data": {
      "image/png": "[encoded data removed]",
      "text/plain": [
       "<Figure size 432x288 with 1 Axes>"
      ]
     },
     "metadata": {
      "needs_background": "light"
     },
     "output_type": "display_data"
    }
   ],
   "source": [
    "uk.graph_changes()"
   ]
  },
  {
   "cell_type": "code",
   "execution_count": 6,
   "metadata": {
    "scrolled": true
   },
   "outputs": [
    {
     "data": {
      "image/png": "[encoded data removed]",
      "text/plain": [
       "<Figure size 432x288 with 1 Axes>"
      ]
     },
     "metadata": {
      "needs_background": "light"
     },
     "output_type": "display_data"
    }
   ],
   "source": [
    "uk.graph_changes_pct()"
   ]
  },
  {
   "cell_type": "code",
   "execution_count": null,
   "metadata": {},
   "outputs": [],
   "source": []
  }
 ],
 "metadata": {
  "kernelspec": {
   "display_name": "Python 3",
   "language": "python",
   "name": "python3"
  },
  "language_info": {
   "codemirror_mode": {
    "name": "ipython",
    "version": 3
   },
   "file_extension": ".py",
   "mimetype": "text/x-python",
   "name": "python",
   "nbconvert_exporter": "python",
   "pygments_lexer": "ipython3",
   "version": "3.7.6"
  }
 },
 "nbformat": 4,
 "nbformat_minor": 4
}
