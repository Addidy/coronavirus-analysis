{
 "cells": [
  {
   "cell_type": "code",
   "execution_count": 1,
   "metadata": {},
   "outputs": [],
   "source": [
    "import utilities as u\n",
    "import pandas as pd\n",
    "import sys\n",
    "import matplotlib.pyplot as plt\n",
    "import numpy as np\n",
    "import analyzer as anlzr\n",
    "%matplotlib inline"
   ]
  },
  {
   "cell_type": "code",
   "execution_count": 2,
   "metadata": {},
   "outputs": [
    {
     "name": "stdout",
     "output_type": "stream",
     "text": [
      "Getting latest data...\n",
      "Already up to date.\n"
     ]
    }
   ],
   "source": [
    "dl = anlzr.DataDownloader()"
   ]
  },
  {
   "cell_type": "code",
   "execution_count": 3,
   "metadata": {},
   "outputs": [
    {
     "data": {
      "text/html": [
       "<div>\n",
       "<style scoped>\n",
       "    .dataframe tbody tr th:only-of-type {\n",
       "        vertical-align: middle;\n",
       "    }\n",
       "\n",
       "    .dataframe tbody tr th {\n",
       "        vertical-align: top;\n",
       "    }\n",
       "\n",
       "    .dataframe thead th {\n",
       "        text-align: right;\n",
       "    }\n",
       "</style>\n",
       "<table border=\"1\" class=\"dataframe\">\n",
       "  <thead>\n",
       "    <tr style=\"text-align: right;\">\n",
       "      <th></th>\n",
       "      <th>confirmed_total</th>\n",
       "      <th>death_total</th>\n",
       "      <th>recovered_total</th>\n",
       "      <th>current_infected_total</th>\n",
       "      <th>confirmed_change</th>\n",
       "      <th>death_change</th>\n",
       "      <th>recovered_change</th>\n",
       "      <th>current_infected_change</th>\n",
       "      <th>confirmed_change%</th>\n",
       "      <th>death_change%</th>\n",
       "      <th>recovered_change%</th>\n",
       "      <th>current_infected_change%</th>\n",
       "      <th>confirmed_change%3a</th>\n",
       "      <th>death_change%3a</th>\n",
       "      <th>recovered_change%3a</th>\n",
       "      <th>current_infected_change%3a</th>\n",
       "      <th>lethality</th>\n",
       "    </tr>\n",
       "    <tr>\n",
       "      <th>date</th>\n",
       "      <th></th>\n",
       "      <th></th>\n",
       "      <th></th>\n",
       "      <th></th>\n",
       "      <th></th>\n",
       "      <th></th>\n",
       "      <th></th>\n",
       "      <th></th>\n",
       "      <th></th>\n",
       "      <th></th>\n",
       "      <th></th>\n",
       "      <th></th>\n",
       "      <th></th>\n",
       "      <th></th>\n",
       "      <th></th>\n",
       "      <th></th>\n",
       "      <th></th>\n",
       "    </tr>\n",
       "  </thead>\n",
       "  <tbody>\n",
       "    <tr>\n",
       "      <th>2020-02-29</th>\n",
       "      <td>79251</td>\n",
       "      <td>2835</td>\n",
       "      <td>39279</td>\n",
       "      <td>37137</td>\n",
       "      <td>427.0</td>\n",
       "      <td>47.0</td>\n",
       "      <td>2988.0</td>\n",
       "      <td>-2608.0</td>\n",
       "      <td>0.005417</td>\n",
       "      <td>0.016858</td>\n",
       "      <td>0.082334</td>\n",
       "      <td>-0.065618</td>\n",
       "      <td>0.005083</td>\n",
       "      <td>0.015775</td>\n",
       "      <td>0.091761</td>\n",
       "      <td>-0.058849</td>\n",
       "      <td>0.072176</td>\n",
       "    </tr>\n",
       "    <tr>\n",
       "      <th>2020-03-01</th>\n",
       "      <td>79826</td>\n",
       "      <td>2870</td>\n",
       "      <td>42118</td>\n",
       "      <td>34838</td>\n",
       "      <td>575.0</td>\n",
       "      <td>35.0</td>\n",
       "      <td>2839.0</td>\n",
       "      <td>-2299.0</td>\n",
       "      <td>0.007255</td>\n",
       "      <td>0.012346</td>\n",
       "      <td>0.072278</td>\n",
       "      <td>-0.061906</td>\n",
       "      <td>0.005593</td>\n",
       "      <td>0.013980</td>\n",
       "      <td>0.088104</td>\n",
       "      <td>-0.063501</td>\n",
       "      <td>0.068142</td>\n",
       "    </tr>\n",
       "    <tr>\n",
       "      <th>2020-03-02</th>\n",
       "      <td>80026</td>\n",
       "      <td>2912</td>\n",
       "      <td>44810</td>\n",
       "      <td>32304</td>\n",
       "      <td>200.0</td>\n",
       "      <td>42.0</td>\n",
       "      <td>2692.0</td>\n",
       "      <td>-2534.0</td>\n",
       "      <td>0.002505</td>\n",
       "      <td>0.014634</td>\n",
       "      <td>0.063916</td>\n",
       "      <td>-0.072737</td>\n",
       "      <td>0.004833</td>\n",
       "      <td>0.014968</td>\n",
       "      <td>0.080416</td>\n",
       "      <td>-0.068213</td>\n",
       "      <td>0.064985</td>\n",
       "    </tr>\n",
       "    <tr>\n",
       "      <th>2020-03-03</th>\n",
       "      <td>80151</td>\n",
       "      <td>2945</td>\n",
       "      <td>47404</td>\n",
       "      <td>29802</td>\n",
       "      <td>125.0</td>\n",
       "      <td>33.0</td>\n",
       "      <td>2594.0</td>\n",
       "      <td>-2502.0</td>\n",
       "      <td>0.001562</td>\n",
       "      <td>0.011332</td>\n",
       "      <td>0.057889</td>\n",
       "      <td>-0.077452</td>\n",
       "      <td>0.004185</td>\n",
       "      <td>0.013793</td>\n",
       "      <td>0.069104</td>\n",
       "      <td>-0.069428</td>\n",
       "      <td>0.062126</td>\n",
       "    </tr>\n",
       "    <tr>\n",
       "      <th>2020-03-04</th>\n",
       "      <td>80271</td>\n",
       "      <td>2981</td>\n",
       "      <td>49955</td>\n",
       "      <td>27335</td>\n",
       "      <td>120.0</td>\n",
       "      <td>36.0</td>\n",
       "      <td>2551.0</td>\n",
       "      <td>-2467.0</td>\n",
       "      <td>0.001497</td>\n",
       "      <td>0.012224</td>\n",
       "      <td>0.053814</td>\n",
       "      <td>-0.082780</td>\n",
       "      <td>0.003205</td>\n",
       "      <td>0.012634</td>\n",
       "      <td>0.061974</td>\n",
       "      <td>-0.073718</td>\n",
       "      <td>0.059674</td>\n",
       "    </tr>\n",
       "  </tbody>\n",
       "</table>\n",
       "</div>"
      ],
      "text/plain": [
       "            confirmed_total  death_total  recovered_total  \\\n",
       "date                                                        \n",
       "2020-02-29            79251         2835            39279   \n",
       "2020-03-01            79826         2870            42118   \n",
       "2020-03-02            80026         2912            44810   \n",
       "2020-03-03            80151         2945            47404   \n",
       "2020-03-04            80271         2981            49955   \n",
       "\n",
       "            current_infected_total  confirmed_change  death_change  \\\n",
       "date                                                                 \n",
       "2020-02-29                   37137             427.0          47.0   \n",
       "2020-03-01                   34838             575.0          35.0   \n",
       "2020-03-02                   32304             200.0          42.0   \n",
       "2020-03-03                   29802             125.0          33.0   \n",
       "2020-03-04                   27335             120.0          36.0   \n",
       "\n",
       "            recovered_change  current_infected_change  confirmed_change%  \\\n",
       "date                                                                       \n",
       "2020-02-29            2988.0                  -2608.0           0.005417   \n",
       "2020-03-01            2839.0                  -2299.0           0.007255   \n",
       "2020-03-02            2692.0                  -2534.0           0.002505   \n",
       "2020-03-03            2594.0                  -2502.0           0.001562   \n",
       "2020-03-04            2551.0                  -2467.0           0.001497   \n",
       "\n",
       "            death_change%  recovered_change%  current_infected_change%  \\\n",
       "date                                                                     \n",
       "2020-02-29       0.016858           0.082334                 -0.065618   \n",
       "2020-03-01       0.012346           0.072278                 -0.061906   \n",
       "2020-03-02       0.014634           0.063916                 -0.072737   \n",
       "2020-03-03       0.011332           0.057889                 -0.077452   \n",
       "2020-03-04       0.012224           0.053814                 -0.082780   \n",
       "\n",
       "            confirmed_change%3a  death_change%3a  recovered_change%3a  \\\n",
       "date                                                                    \n",
       "2020-02-29             0.005083         0.015775             0.091761   \n",
       "2020-03-01             0.005593         0.013980             0.088104   \n",
       "2020-03-02             0.004833         0.014968             0.080416   \n",
       "2020-03-03             0.004185         0.013793             0.069104   \n",
       "2020-03-04             0.003205         0.012634             0.061974   \n",
       "\n",
       "            current_infected_change%3a  lethality  \n",
       "date                                               \n",
       "2020-02-29                   -0.058849   0.072176  \n",
       "2020-03-01                   -0.063501   0.068142  \n",
       "2020-03-02                   -0.068213   0.064985  \n",
       "2020-03-03                   -0.069428   0.062126  \n",
       "2020-03-04                   -0.073718   0.059674  "
      ]
     },
     "execution_count": 3,
     "metadata": {},
     "output_type": "execute_result"
    }
   ],
   "source": [
    "china = dl.get_analyzer(include_country_regions=['Mainland China'])\n",
    "china.get_dataframe().tail()"
   ]
  },
  {
   "cell_type": "code",
   "execution_count": 4,
   "metadata": {},
   "outputs": [
    {
     "ename": "NameError",
     "evalue": "name 'mdates' is not defined",
     "output_type": "error",
     "traceback": [
      "\u001b[1;31m---------------------------------------------------------------------------\u001b[0m",
      "\u001b[1;31mNameError\u001b[0m                                 Traceback (most recent call last)",
      "\u001b[1;32m<ipython-input-4-795ef51e6e3f>\u001b[0m in \u001b[0;36m<module>\u001b[1;34m\u001b[0m\n\u001b[1;32m----> 1\u001b[1;33m \u001b[0mchina\u001b[0m\u001b[1;33m.\u001b[0m\u001b[0mgraph_data\u001b[0m\u001b[1;33m(\u001b[0m\u001b[1;33m)\u001b[0m\u001b[1;33m\u001b[0m\u001b[1;33m\u001b[0m\u001b[0m\n\u001b[0m",
      "\u001b[1;32m~\\Documents\\_DEV\\coronavirus-analysis\\src\\analyzer.py\u001b[0m in \u001b[0;36mgraph_data\u001b[1;34m(self, columns, since_x_days_ago, upto_x_days_ago)\u001b[0m\n\u001b[0;32m     71\u001b[0m     \u001b[1;32mdef\u001b[0m \u001b[0mgraph_data\u001b[0m\u001b[1;33m(\u001b[0m\u001b[0mself\u001b[0m\u001b[1;33m,\u001b[0m \u001b[0mcolumns\u001b[0m\u001b[1;33m=\u001b[0m\u001b[1;33m[\u001b[0m\u001b[1;33m]\u001b[0m\u001b[1;33m,\u001b[0m \u001b[0msince_x_days_ago\u001b[0m\u001b[1;33m=\u001b[0m\u001b[1;36m0\u001b[0m\u001b[1;33m,\u001b[0m \u001b[0mupto_x_days_ago\u001b[0m\u001b[1;33m=\u001b[0m\u001b[1;36m0\u001b[0m\u001b[1;33m)\u001b[0m\u001b[1;33m:\u001b[0m\u001b[1;33m\u001b[0m\u001b[1;33m\u001b[0m\u001b[0m\n\u001b[0;32m     72\u001b[0m         \u001b[1;32mif\u001b[0m \u001b[0mlen\u001b[0m\u001b[1;33m(\u001b[0m\u001b[0mcolumns\u001b[0m\u001b[1;33m)\u001b[0m \u001b[1;33m==\u001b[0m \u001b[1;36m0\u001b[0m\u001b[1;33m:\u001b[0m\u001b[1;33m\u001b[0m\u001b[1;33m\u001b[0m\u001b[0m\n\u001b[1;32m---> 73\u001b[1;33m             \u001b[0mself\u001b[0m\u001b[1;33m.\u001b[0m\u001b[0mgraph_totals\u001b[0m\u001b[1;33m(\u001b[0m\u001b[0msince_x_days_ago\u001b[0m\u001b[1;33m,\u001b[0m \u001b[0mupto_x_days_ago\u001b[0m\u001b[1;33m)\u001b[0m\u001b[1;33m\u001b[0m\u001b[1;33m\u001b[0m\u001b[0m\n\u001b[0m\u001b[0;32m     74\u001b[0m         \u001b[1;32melse\u001b[0m\u001b[1;33m:\u001b[0m\u001b[1;33m\u001b[0m\u001b[1;33m\u001b[0m\u001b[0m\n\u001b[0;32m     75\u001b[0m             \u001b[1;32mfor\u001b[0m \u001b[0mcolumn\u001b[0m \u001b[1;32min\u001b[0m \u001b[0mcolumns\u001b[0m\u001b[1;33m:\u001b[0m\u001b[1;33m\u001b[0m\u001b[1;33m\u001b[0m\u001b[0m\n",
      "\u001b[1;32m~\\Documents\\_DEV\\coronavirus-analysis\\src\\analyzer.py\u001b[0m in \u001b[0;36mgraph_totals\u001b[1;34m(self, since_x_days_ago, upto_x_days_ago)\u001b[0m\n\u001b[0;32m     78\u001b[0m \u001b[1;33m\u001b[0m\u001b[0m\n\u001b[0;32m     79\u001b[0m     \u001b[1;32mdef\u001b[0m \u001b[0mgraph_totals\u001b[0m\u001b[1;33m(\u001b[0m\u001b[0mself\u001b[0m\u001b[1;33m,\u001b[0m \u001b[0msince_x_days_ago\u001b[0m\u001b[1;33m=\u001b[0m\u001b[1;36m0\u001b[0m\u001b[1;33m,\u001b[0m \u001b[0mupto_x_days_ago\u001b[0m\u001b[1;33m=\u001b[0m\u001b[1;36m0\u001b[0m\u001b[1;33m)\u001b[0m\u001b[1;33m:\u001b[0m\u001b[1;33m\u001b[0m\u001b[1;33m\u001b[0m\u001b[0m\n\u001b[1;32m---> 80\u001b[1;33m         \u001b[0mself\u001b[0m\u001b[1;33m.\u001b[0m\u001b[0mgraph_append\u001b[0m\u001b[1;33m(\u001b[0m\u001b[1;34m'_total'\u001b[0m\u001b[1;33m,\u001b[0m \u001b[0msince_x_days_ago\u001b[0m\u001b[1;33m,\u001b[0m \u001b[0mupto_x_days_ago\u001b[0m\u001b[1;33m)\u001b[0m\u001b[1;33m\u001b[0m\u001b[1;33m\u001b[0m\u001b[0m\n\u001b[0m\u001b[0;32m     81\u001b[0m \u001b[1;33m\u001b[0m\u001b[0m\n\u001b[0;32m     82\u001b[0m     \u001b[1;32mdef\u001b[0m \u001b[0mgraph_changes\u001b[0m\u001b[1;33m(\u001b[0m\u001b[0mself\u001b[0m\u001b[1;33m,\u001b[0m \u001b[0msince_x_days_ago\u001b[0m\u001b[1;33m=\u001b[0m\u001b[1;36m0\u001b[0m\u001b[1;33m,\u001b[0m \u001b[0mupto_x_days_ago\u001b[0m\u001b[1;33m=\u001b[0m\u001b[1;36m0\u001b[0m\u001b[1;33m)\u001b[0m\u001b[1;33m:\u001b[0m\u001b[1;33m\u001b[0m\u001b[1;33m\u001b[0m\u001b[0m\n",
      "\u001b[1;32m~\\Documents\\_DEV\\coronavirus-analysis\\src\\analyzer.py\u001b[0m in \u001b[0;36mgraph_append\u001b[1;34m(self, append, since_x_days_ago, upto_x_days_ago)\u001b[0m\n\u001b[0;32m     96\u001b[0m         \u001b[0mplt\u001b[0m\u001b[1;33m.\u001b[0m\u001b[0mplot\u001b[0m\u001b[1;33m(\u001b[0m\u001b[0mself\u001b[0m\u001b[1;33m.\u001b[0m\u001b[0mdata\u001b[0m\u001b[1;33m[\u001b[0m\u001b[1;34m'confirmed'\u001b[0m\u001b[1;33m+\u001b[0m\u001b[0mappend\u001b[0m\u001b[1;33m]\u001b[0m\u001b[1;33m[\u001b[0m\u001b[0msince_x_days_ago\u001b[0m\u001b[1;33m:\u001b[0m\u001b[0mupto_x_days_ago\u001b[0m\u001b[1;33m]\u001b[0m\u001b[1;33m,\u001b[0m \u001b[0mcolor\u001b[0m\u001b[1;33m=\u001b[0m\u001b[1;34m'orange'\u001b[0m\u001b[1;33m,\u001b[0m \u001b[0mlinestyle\u001b[0m\u001b[1;33m=\u001b[0m\u001b[1;34m'dashed'\u001b[0m\u001b[1;33m,\u001b[0m \u001b[0mlabel\u001b[0m\u001b[1;33m=\u001b[0m\u001b[1;34m'confirmed total'\u001b[0m\u001b[1;33m)\u001b[0m\u001b[1;33m\u001b[0m\u001b[1;33m\u001b[0m\u001b[0m\n\u001b[0;32m     97\u001b[0m         \u001b[0mplt\u001b[0m\u001b[1;33m.\u001b[0m\u001b[0mplot\u001b[0m\u001b[1;33m(\u001b[0m\u001b[0mself\u001b[0m\u001b[1;33m.\u001b[0m\u001b[0mdata\u001b[0m\u001b[1;33m[\u001b[0m\u001b[1;34m'recovered'\u001b[0m\u001b[1;33m+\u001b[0m\u001b[0mappend\u001b[0m\u001b[1;33m]\u001b[0m\u001b[1;33m[\u001b[0m\u001b[0msince_x_days_ago\u001b[0m\u001b[1;33m:\u001b[0m\u001b[0mupto_x_days_ago\u001b[0m\u001b[1;33m]\u001b[0m\u001b[1;33m,\u001b[0m \u001b[0mcolor\u001b[0m\u001b[1;33m=\u001b[0m\u001b[1;34m'green'\u001b[0m\u001b[1;33m,\u001b[0m \u001b[0mlabel\u001b[0m\u001b[1;33m=\u001b[0m\u001b[1;34m'recovered'\u001b[0m\u001b[1;33m)\u001b[0m\u001b[1;33m\u001b[0m\u001b[1;33m\u001b[0m\u001b[0m\n\u001b[1;32m---> 98\u001b[1;33m         \u001b[0mplt\u001b[0m\u001b[1;33m.\u001b[0m\u001b[0mfmt_xdata\u001b[0m \u001b[1;33m=\u001b[0m \u001b[0mmdates\u001b[0m\u001b[1;33m.\u001b[0m\u001b[0mDateFormatter\u001b[0m\u001b[1;33m(\u001b[0m\u001b[1;34m'%Y-%m-%d'\u001b[0m\u001b[1;33m)\u001b[0m\u001b[1;33m\u001b[0m\u001b[1;33m\u001b[0m\u001b[0m\n\u001b[0m\u001b[0;32m     99\u001b[0m         \u001b[0mplt\u001b[0m\u001b[1;33m.\u001b[0m\u001b[0mshow\u001b[0m\u001b[1;33m(\u001b[0m\u001b[1;33m)\u001b[0m\u001b[1;33m\u001b[0m\u001b[1;33m\u001b[0m\u001b[0m\n\u001b[0;32m    100\u001b[0m \u001b[1;33m\u001b[0m\u001b[0m\n",
      "\u001b[1;31mNameError\u001b[0m: name 'mdates' is not defined"
     ]
    },
    {
     "data": {
      "image/png": "[encoded data removed]",
      "text/plain": [
       "<Figure size 432x288 with 1 Axes>"
      ]
     },
     "metadata": {
      "needs_background": "light"
     },
     "output_type": "display_data"
    }
   ],
   "source": [
    "china.graph_data()"
   ]
  },
  {
   "cell_type": "code",
   "execution_count": null,
   "metadata": {},
   "outputs": [],
   "source": [
    "china.graph_changes(since_x_days_ago=10)"
   ]
  },
  {
   "cell_type": "code",
   "execution_count": null,
   "metadata": {},
   "outputs": [],
   "source": [
    "china.graph_data(['death_total'])"
   ]
  },
  {
   "cell_type": "code",
   "execution_count": null,
   "metadata": {},
   "outputs": [],
   "source": [
    "china.graph_changes_pct(since_x_days_ago=7)"
   ]
  },
  {
   "cell_type": "code",
   "execution_count": null,
   "metadata": {},
   "outputs": [],
   "source": []
  }
 ],
 "metadata": {
  "kernelspec": {
   "display_name": "Python 3",
   "language": "python",
   "name": "python3"
  },
  "language_info": {
   "codemirror_mode": {
    "name": "ipython",
    "version": 3
   },
   "file_extension": ".py",
   "mimetype": "text/x-python",
   "name": "python",
   "nbconvert_exporter": "python",
   "pygments_lexer": "ipython3",
   "version": "3.7.3"
  }
 },
 "nbformat": 4,
 "nbformat_minor": 4
}
