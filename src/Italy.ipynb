{
 "cells": [
  {
   "cell_type": "code",
   "execution_count": 1,
   "metadata": {},
   "outputs": [
    {
     "name": "stderr",
     "output_type": "stream",
     "text": [
      "C:\\Users\\Administrator\\Anaconda3\\envs\\coronavirus-analysis\\lib\\site-packages\\pandas_datareader\\compat\\__init__.py:7: FutureWarning: pandas.util.testing is deprecated. Use the functions in the public API at pandas.testing instead.\n",
      "  from pandas.util.testing import assert_frame_equal\n"
     ]
    }
   ],
   "source": [
    "import utilities as u\n",
    "import pandas as pd\n",
    "import sys\n",
    "import matplotlib.pyplot as plt\n",
    "import numpy as np\n",
    "import analyzer as anlzr\n",
    "%matplotlib inline"
   ]
  },
  {
   "cell_type": "code",
   "execution_count": 2,
   "metadata": {},
   "outputs": [
    {
     "name": "stdout",
     "output_type": "stream",
     "text": [
      "Getting latest data...\n",
      "Already up to date.\n"
     ]
    }
   ],
   "source": [
    "dl = anlzr.DataDownloader()"
   ]
  },
  {
   "cell_type": "code",
   "execution_count": 3,
   "metadata": {},
   "outputs": [
    {
     "data": {
      "text/html": [
       "<div>\n",
       "<style scoped>\n",
       "    .dataframe tbody tr th:only-of-type {\n",
       "        vertical-align: middle;\n",
       "    }\n",
       "\n",
       "    .dataframe tbody tr th {\n",
       "        vertical-align: top;\n",
       "    }\n",
       "\n",
       "    .dataframe thead th {\n",
       "        text-align: right;\n",
       "    }\n",
       "</style>\n",
       "<table border=\"1\" class=\"dataframe\">\n",
       "  <thead>\n",
       "    <tr style=\"text-align: right;\">\n",
       "      <th></th>\n",
       "      <th>confirmed_total</th>\n",
       "      <th>death_total</th>\n",
       "      <th>recovered_total</th>\n",
       "      <th>current_infected_total</th>\n",
       "      <th>confirmed_change</th>\n",
       "      <th>death_change</th>\n",
       "      <th>recovered_change</th>\n",
       "      <th>current_infected_change</th>\n",
       "      <th>confirmed_change%</th>\n",
       "      <th>death_change%</th>\n",
       "      <th>recovered_change%</th>\n",
       "      <th>current_infected_change%</th>\n",
       "      <th>confirmed_change%3a</th>\n",
       "      <th>death_change%3a</th>\n",
       "      <th>recovered_change%3a</th>\n",
       "      <th>current_infected_change%3a</th>\n",
       "      <th>lethality</th>\n",
       "    </tr>\n",
       "    <tr>\n",
       "      <th>date</th>\n",
       "      <th></th>\n",
       "      <th></th>\n",
       "      <th></th>\n",
       "      <th></th>\n",
       "      <th></th>\n",
       "      <th></th>\n",
       "      <th></th>\n",
       "      <th></th>\n",
       "      <th></th>\n",
       "      <th></th>\n",
       "      <th></th>\n",
       "      <th></th>\n",
       "      <th></th>\n",
       "      <th></th>\n",
       "      <th></th>\n",
       "      <th></th>\n",
       "      <th></th>\n",
       "    </tr>\n",
       "  </thead>\n",
       "  <tbody>\n",
       "    <tr>\n",
       "      <th>2020-03-05</th>\n",
       "      <td>3858</td>\n",
       "      <td>148</td>\n",
       "      <td>414</td>\n",
       "      <td>3296</td>\n",
       "      <td>769.0</td>\n",
       "      <td>41.0</td>\n",
       "      <td>138.0</td>\n",
       "      <td>590.0</td>\n",
       "      <td>0.248948</td>\n",
       "      <td>0.383178</td>\n",
       "      <td>0.500000</td>\n",
       "      <td>0.218034</td>\n",
       "      <td>0.228582</td>\n",
       "      <td>0.446563</td>\n",
       "      <td>0.523502</td>\n",
       "      <td>0.202659</td>\n",
       "      <td>0.357488</td>\n",
       "    </tr>\n",
       "    <tr>\n",
       "      <th>2020-03-06</th>\n",
       "      <td>4636</td>\n",
       "      <td>197</td>\n",
       "      <td>523</td>\n",
       "      <td>3916</td>\n",
       "      <td>778.0</td>\n",
       "      <td>49.0</td>\n",
       "      <td>109.0</td>\n",
       "      <td>620.0</td>\n",
       "      <td>0.201659</td>\n",
       "      <td>0.331081</td>\n",
       "      <td>0.263285</td>\n",
       "      <td>0.188107</td>\n",
       "      <td>0.228525</td>\n",
       "      <td>0.396980</td>\n",
       "      <td>0.390528</td>\n",
       "      <td>0.208785</td>\n",
       "      <td>0.376673</td>\n",
       "    </tr>\n",
       "    <tr>\n",
       "      <th>2020-03-07</th>\n",
       "      <td>5883</td>\n",
       "      <td>233</td>\n",
       "      <td>589</td>\n",
       "      <td>5061</td>\n",
       "      <td>1247.0</td>\n",
       "      <td>36.0</td>\n",
       "      <td>66.0</td>\n",
       "      <td>1145.0</td>\n",
       "      <td>0.268982</td>\n",
       "      <td>0.182741</td>\n",
       "      <td>0.126195</td>\n",
       "      <td>0.292390</td>\n",
       "      <td>0.238550</td>\n",
       "      <td>0.312858</td>\n",
       "      <td>0.403620</td>\n",
       "      <td>0.223572</td>\n",
       "      <td>0.395586</td>\n",
       "    </tr>\n",
       "    <tr>\n",
       "      <th>2020-03-08</th>\n",
       "      <td>7375</td>\n",
       "      <td>366</td>\n",
       "      <td>622</td>\n",
       "      <td>6387</td>\n",
       "      <td>1492.0</td>\n",
       "      <td>133.0</td>\n",
       "      <td>33.0</td>\n",
       "      <td>1326.0</td>\n",
       "      <td>0.253612</td>\n",
       "      <td>0.570815</td>\n",
       "      <td>0.056027</td>\n",
       "      <td>0.262004</td>\n",
       "      <td>0.243300</td>\n",
       "      <td>0.366954</td>\n",
       "      <td>0.236377</td>\n",
       "      <td>0.240134</td>\n",
       "      <td>0.588424</td>\n",
       "    </tr>\n",
       "    <tr>\n",
       "      <th>2020-03-09</th>\n",
       "      <td>9172</td>\n",
       "      <td>463</td>\n",
       "      <td>724</td>\n",
       "      <td>7985</td>\n",
       "      <td>1797.0</td>\n",
       "      <td>97.0</td>\n",
       "      <td>102.0</td>\n",
       "      <td>1598.0</td>\n",
       "      <td>0.243661</td>\n",
       "      <td>0.265027</td>\n",
       "      <td>0.163987</td>\n",
       "      <td>0.250196</td>\n",
       "      <td>0.241978</td>\n",
       "      <td>0.337416</td>\n",
       "      <td>0.152374</td>\n",
       "      <td>0.248174</td>\n",
       "      <td>0.639503</td>\n",
       "    </tr>\n",
       "  </tbody>\n",
       "</table>\n",
       "</div>"
      ],
      "text/plain": [
       "            confirmed_total  death_total  recovered_total  \\\n",
       "date                                                        \n",
       "2020-03-05             3858          148              414   \n",
       "2020-03-06             4636          197              523   \n",
       "2020-03-07             5883          233              589   \n",
       "2020-03-08             7375          366              622   \n",
       "2020-03-09             9172          463              724   \n",
       "\n",
       "            current_infected_total  confirmed_change  death_change  \\\n",
       "date                                                                 \n",
       "2020-03-05                    3296             769.0          41.0   \n",
       "2020-03-06                    3916             778.0          49.0   \n",
       "2020-03-07                    5061            1247.0          36.0   \n",
       "2020-03-08                    6387            1492.0         133.0   \n",
       "2020-03-09                    7985            1797.0          97.0   \n",
       "\n",
       "            recovered_change  current_infected_change  confirmed_change%  \\\n",
       "date                                                                       \n",
       "2020-03-05             138.0                    590.0           0.248948   \n",
       "2020-03-06             109.0                    620.0           0.201659   \n",
       "2020-03-07              66.0                   1145.0           0.268982   \n",
       "2020-03-08              33.0                   1326.0           0.253612   \n",
       "2020-03-09             102.0                   1598.0           0.243661   \n",
       "\n",
       "            death_change%  recovered_change%  current_infected_change%  \\\n",
       "date                                                                     \n",
       "2020-03-05       0.383178           0.500000                  0.218034   \n",
       "2020-03-06       0.331081           0.263285                  0.188107   \n",
       "2020-03-07       0.182741           0.126195                  0.292390   \n",
       "2020-03-08       0.570815           0.056027                  0.262004   \n",
       "2020-03-09       0.265027           0.163987                  0.250196   \n",
       "\n",
       "            confirmed_change%3a  death_change%3a  recovered_change%3a  \\\n",
       "date                                                                    \n",
       "2020-03-05             0.228582         0.446563             0.523502   \n",
       "2020-03-06             0.228525         0.396980             0.390528   \n",
       "2020-03-07             0.238550         0.312858             0.403620   \n",
       "2020-03-08             0.243300         0.366954             0.236377   \n",
       "2020-03-09             0.241978         0.337416             0.152374   \n",
       "\n",
       "            current_infected_change%3a  lethality  \n",
       "date                                               \n",
       "2020-03-05                    0.202659   0.357488  \n",
       "2020-03-06                    0.208785   0.376673  \n",
       "2020-03-07                    0.223572   0.395586  \n",
       "2020-03-08                    0.240134   0.588424  \n",
       "2020-03-09                    0.248174   0.639503  "
      ]
     },
     "execution_count": 3,
     "metadata": {},
     "output_type": "execute_result"
    }
   ],
   "source": [
    "china = dl.get_analyzer(include_country_regions=['Italy'])\n",
    "china.get_dataframe().tail()"
   ]
  },
  {
   "cell_type": "code",
   "execution_count": 4,
   "metadata": {},
   "outputs": [
    {
     "data": {
      "image/png": "[encoded data removed]",
      "text/plain": [
       "<Figure size 432x288 with 1 Axes>"
      ]
     },
     "metadata": {
      "needs_background": "light"
     },
     "output_type": "display_data"
    }
   ],
   "source": [
    "china.graph_data()"
   ]
  },
  {
   "cell_type": "code",
   "execution_count": 5,
   "metadata": {},
   "outputs": [
    {
     "data": {
      "image/png": "[encoded data removed]",
      "text/plain": [
       "<Figure size 432x288 with 1 Axes>"
      ]
     },
     "metadata": {
      "needs_background": "light"
     },
     "output_type": "display_data"
    }
   ],
   "source": [
    "china.graph_changes()"
   ]
  },
  {
   "cell_type": "code",
   "execution_count": 6,
   "metadata": {},
   "outputs": [
    {
     "data": {
      "image/png": "[encoded data removed]",
      "text/plain": [
       "<Figure size 432x288 with 1 Axes>"
      ]
     },
     "metadata": {
      "needs_background": "light"
     },
     "output_type": "display_data"
    }
   ],
   "source": [
    "china.graph_data(['death_total'])"
   ]
  },
  {
   "cell_type": "code",
   "execution_count": 7,
   "metadata": {},
   "outputs": [
    {
     "data": {
      "image/png": "[encoded data removed]",
      "text/plain": [
       "<Figure size 432x288 with 1 Axes>"
      ]
     },
     "metadata": {
      "needs_background": "light"
     },
     "output_type": "display_data"
    }
   ],
   "source": [
    "china.graph_changes_pct(since_x_days_ago=4)"
   ]
  },
  {
   "cell_type": "code",
   "execution_count": null,
   "metadata": {},
   "outputs": [],
   "source": []
  }
 ],
 "metadata": {
  "kernelspec": {
   "display_name": "Python 3",
   "language": "python",
   "name": "python3"
  },
  "language_info": {
   "codemirror_mode": {
    "name": "ipython",
    "version": 3
   },
   "file_extension": ".py",
   "mimetype": "text/x-python",
   "name": "python",
   "nbconvert_exporter": "python",
   "pygments_lexer": "ipython3",
   "version": "3.7.6"
  }
 },
 "nbformat": 4,
 "nbformat_minor": 4
}
