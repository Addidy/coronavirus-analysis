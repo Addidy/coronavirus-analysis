{
 "cells": [
  {
   "cell_type": "code",
   "execution_count": 1,
   "metadata": {},
   "outputs": [
    {
     "name": "stderr",
     "output_type": "stream",
     "text": [
      "C:\\Users\\Administrator\\Anaconda3\\envs\\coronavirus-analysis\\lib\\site-packages\\pandas_datareader\\compat\\__init__.py:7: FutureWarning: pandas.util.testing is deprecated. Use the functions in the public API at pandas.testing instead.\n",
      "  from pandas.util.testing import assert_frame_equal\n"
     ]
    }
   ],
   "source": [
    "import utilities as u\n",
    "import pandas as pd\n",
    "import sys\n",
    "import matplotlib.pyplot as plt\n",
    "import numpy as np\n",
    "import analyzer as anlzr\n",
    "%matplotlib inline"
   ]
  },
  {
   "cell_type": "code",
   "execution_count": 2,
   "metadata": {},
   "outputs": [
    {
     "name": "stdout",
     "output_type": "stream",
     "text": [
      "Getting latest data...\n",
      "Already up to date.\n"
     ]
    }
   ],
   "source": [
    "dl = anlzr.DataDownloader()"
   ]
  },
  {
   "cell_type": "code",
   "execution_count": 3,
   "metadata": {},
   "outputs": [
    {
     "data": {
      "text/html": [
       "<div>\n",
       "<style scoped>\n",
       "    .dataframe tbody tr th:only-of-type {\n",
       "        vertical-align: middle;\n",
       "    }\n",
       "\n",
       "    .dataframe tbody tr th {\n",
       "        vertical-align: top;\n",
       "    }\n",
       "\n",
       "    .dataframe thead th {\n",
       "        text-align: right;\n",
       "    }\n",
       "</style>\n",
       "<table border=\"1\" class=\"dataframe\">\n",
       "  <thead>\n",
       "    <tr style=\"text-align: right;\">\n",
       "      <th></th>\n",
       "      <th>confirmed_total</th>\n",
       "      <th>death_total</th>\n",
       "      <th>recovered_total</th>\n",
       "      <th>current_infected_total</th>\n",
       "      <th>confirmed_change</th>\n",
       "      <th>death_change</th>\n",
       "      <th>recovered_change</th>\n",
       "      <th>current_infected_change</th>\n",
       "      <th>confirmed_change%</th>\n",
       "      <th>death_change%</th>\n",
       "      <th>recovered_change%</th>\n",
       "      <th>current_infected_change%</th>\n",
       "      <th>confirmed_change%3a</th>\n",
       "      <th>death_change%3a</th>\n",
       "      <th>recovered_change%3a</th>\n",
       "      <th>current_infected_change%3a</th>\n",
       "      <th>lethality</th>\n",
       "    </tr>\n",
       "    <tr>\n",
       "      <th>date</th>\n",
       "      <th></th>\n",
       "      <th></th>\n",
       "      <th></th>\n",
       "      <th></th>\n",
       "      <th></th>\n",
       "      <th></th>\n",
       "      <th></th>\n",
       "      <th></th>\n",
       "      <th></th>\n",
       "      <th></th>\n",
       "      <th></th>\n",
       "      <th></th>\n",
       "      <th></th>\n",
       "      <th></th>\n",
       "      <th></th>\n",
       "      <th></th>\n",
       "      <th></th>\n",
       "    </tr>\n",
       "  </thead>\n",
       "  <tbody>\n",
       "    <tr>\n",
       "      <th>2020-03-03</th>\n",
       "      <td>5186</td>\n",
       "      <td>28</td>\n",
       "      <td>30</td>\n",
       "      <td>5128</td>\n",
       "      <td>851.0</td>\n",
       "      <td>0.0</td>\n",
       "      <td>0.0</td>\n",
       "      <td>851.0</td>\n",
       "      <td>0.196309</td>\n",
       "      <td>0.000000</td>\n",
       "      <td>0.000000</td>\n",
       "      <td>0.198971</td>\n",
       "      <td>0.222639</td>\n",
       "      <td>0.235082</td>\n",
       "      <td>0.084596</td>\n",
       "      <td>0.223845</td>\n",
       "      <td>0.933333</td>\n",
       "    </tr>\n",
       "    <tr>\n",
       "      <th>2020-03-04</th>\n",
       "      <td>5621</td>\n",
       "      <td>35</td>\n",
       "      <td>41</td>\n",
       "      <td>5545</td>\n",
       "      <td>435.0</td>\n",
       "      <td>7.0</td>\n",
       "      <td>11.0</td>\n",
       "      <td>417.0</td>\n",
       "      <td>0.083880</td>\n",
       "      <td>0.250000</td>\n",
       "      <td>0.366667</td>\n",
       "      <td>0.081318</td>\n",
       "      <td>0.156638</td>\n",
       "      <td>0.239890</td>\n",
       "      <td>0.119444</td>\n",
       "      <td>0.156750</td>\n",
       "      <td>0.853659</td>\n",
       "    </tr>\n",
       "    <tr>\n",
       "      <th>2020-03-05</th>\n",
       "      <td>6088</td>\n",
       "      <td>35</td>\n",
       "      <td>41</td>\n",
       "      <td>6012</td>\n",
       "      <td>467.0</td>\n",
       "      <td>0.0</td>\n",
       "      <td>0.0</td>\n",
       "      <td>467.0</td>\n",
       "      <td>0.083081</td>\n",
       "      <td>0.000000</td>\n",
       "      <td>0.000000</td>\n",
       "      <td>0.084220</td>\n",
       "      <td>0.130900</td>\n",
       "      <td>0.224265</td>\n",
       "      <td>0.091667</td>\n",
       "      <td>0.130976</td>\n",
       "      <td>0.853659</td>\n",
       "    </tr>\n",
       "    <tr>\n",
       "      <th>2020-03-06</th>\n",
       "      <td>6593</td>\n",
       "      <td>42</td>\n",
       "      <td>135</td>\n",
       "      <td>6416</td>\n",
       "      <td>505.0</td>\n",
       "      <td>7.0</td>\n",
       "      <td>94.0</td>\n",
       "      <td>404.0</td>\n",
       "      <td>0.082950</td>\n",
       "      <td>0.200000</td>\n",
       "      <td>2.292683</td>\n",
       "      <td>0.067199</td>\n",
       "      <td>0.111555</td>\n",
       "      <td>0.112500</td>\n",
       "      <td>0.664837</td>\n",
       "      <td>0.107927</td>\n",
       "      <td>0.311111</td>\n",
       "    </tr>\n",
       "    <tr>\n",
       "      <th>2020-03-07</th>\n",
       "      <td>7041</td>\n",
       "      <td>44</td>\n",
       "      <td>135</td>\n",
       "      <td>6862</td>\n",
       "      <td>448.0</td>\n",
       "      <td>2.0</td>\n",
       "      <td>0.0</td>\n",
       "      <td>446.0</td>\n",
       "      <td>0.067951</td>\n",
       "      <td>0.047619</td>\n",
       "      <td>0.000000</td>\n",
       "      <td>0.069514</td>\n",
       "      <td>0.079465</td>\n",
       "      <td>0.124405</td>\n",
       "      <td>0.664837</td>\n",
       "      <td>0.075563</td>\n",
       "      <td>0.325926</td>\n",
       "    </tr>\n",
       "  </tbody>\n",
       "</table>\n",
       "</div>"
      ],
      "text/plain": [
       "            confirmed_total  death_total  recovered_total  \\\n",
       "date                                                        \n",
       "2020-03-03             5186           28               30   \n",
       "2020-03-04             5621           35               41   \n",
       "2020-03-05             6088           35               41   \n",
       "2020-03-06             6593           42              135   \n",
       "2020-03-07             7041           44              135   \n",
       "\n",
       "            current_infected_total  confirmed_change  death_change  \\\n",
       "date                                                                 \n",
       "2020-03-03                    5128             851.0           0.0   \n",
       "2020-03-04                    5545             435.0           7.0   \n",
       "2020-03-05                    6012             467.0           0.0   \n",
       "2020-03-06                    6416             505.0           7.0   \n",
       "2020-03-07                    6862             448.0           2.0   \n",
       "\n",
       "            recovered_change  current_infected_change  confirmed_change%  \\\n",
       "date                                                                       \n",
       "2020-03-03               0.0                    851.0           0.196309   \n",
       "2020-03-04              11.0                    417.0           0.083880   \n",
       "2020-03-05               0.0                    467.0           0.083081   \n",
       "2020-03-06              94.0                    404.0           0.082950   \n",
       "2020-03-07               0.0                    446.0           0.067951   \n",
       "\n",
       "            death_change%  recovered_change%  current_infected_change%  \\\n",
       "date                                                                     \n",
       "2020-03-03       0.000000           0.000000                  0.198971   \n",
       "2020-03-04       0.250000           0.366667                  0.081318   \n",
       "2020-03-05       0.000000           0.000000                  0.084220   \n",
       "2020-03-06       0.200000           2.292683                  0.067199   \n",
       "2020-03-07       0.047619           0.000000                  0.069514   \n",
       "\n",
       "            confirmed_change%3a  death_change%3a  recovered_change%3a  \\\n",
       "date                                                                    \n",
       "2020-03-03             0.222639         0.235082             0.084596   \n",
       "2020-03-04             0.156638         0.239890             0.119444   \n",
       "2020-03-05             0.130900         0.224265             0.091667   \n",
       "2020-03-06             0.111555         0.112500             0.664837   \n",
       "2020-03-07             0.079465         0.124405             0.664837   \n",
       "\n",
       "            current_infected_change%3a  lethality  \n",
       "date                                               \n",
       "2020-03-03                    0.223845   0.933333  \n",
       "2020-03-04                    0.156750   0.853659  \n",
       "2020-03-05                    0.130976   0.853659  \n",
       "2020-03-06                    0.107927   0.311111  \n",
       "2020-03-07                    0.075563   0.325926  "
      ]
     },
     "execution_count": 3,
     "metadata": {},
     "output_type": "execute_result"
    }
   ],
   "source": [
    "south_korea = dl.get_analyzer(include_country_regions=['South Korea'])\n",
    "south_korea.get_dataframe().tail()"
   ]
  },
  {
   "cell_type": "code",
   "execution_count": 4,
   "metadata": {},
   "outputs": [
    {
     "data": {
      "image/png": "[encoded data removed]",
      "text/plain": [
       "<Figure size 432x288 with 1 Axes>"
      ]
     },
     "metadata": {
      "needs_background": "light"
     },
     "output_type": "display_data"
    }
   ],
   "source": [
    "south_korea.graph_data()"
   ]
  },
  {
   "cell_type": "code",
   "execution_count": 5,
   "metadata": {},
   "outputs": [
    {
     "data": {
      "image/png": "[encoded data removed]",
      "text/plain": [
       "<Figure size 432x288 with 1 Axes>"
      ]
     },
     "metadata": {
      "needs_background": "light"
     },
     "output_type": "display_data"
    }
   ],
   "source": [
    "south_korea.graph_changes(since_x_days_ago=20)"
   ]
  },
  {
   "cell_type": "code",
   "execution_count": 15,
   "metadata": {},
   "outputs": [
    {
     "data": {
      "image/png": "[encoded data removed]",
      "text/plain": [
       "<Figure size 432x288 with 1 Axes>"
      ]
     },
     "metadata": {
      "needs_background": "light"
     },
     "output_type": "display_data"
    }
   ],
   "source": [
    "u.graph_financial_data('^KS11')"
   ]
  },
  {
   "cell_type": "code",
   "execution_count": 8,
   "metadata": {},
   "outputs": [
    {
     "data": {
      "image/png": "[encoded data removed]",
      "text/plain": [
       "<Figure size 432x288 with 1 Axes>"
      ]
     },
     "metadata": {
      "needs_background": "light"
     },
     "output_type": "display_data"
    }
   ],
   "source": [
    "south_korea.graph_data(['death_total'])"
   ]
  },
  {
   "cell_type": "code",
   "execution_count": null,
   "metadata": {},
   "outputs": [],
   "source": [
    "south_korea.graph_data(['recovered_total'])"
   ]
  },
  {
   "cell_type": "code",
   "execution_count": null,
   "metadata": {},
   "outputs": [],
   "source": [
    "south_korea.graph_changes_pct(since_x_days_ago=7)"
   ]
  },
  {
   "cell_type": "code",
   "execution_count": null,
   "metadata": {},
   "outputs": [],
   "source": []
  }
 ],
 "metadata": {
  "kernelspec": {
   "display_name": "Python 3",
   "language": "python",
   "name": "python3"
  },
  "language_info": {
   "codemirror_mode": {
    "name": "ipython",
    "version": 3
   },
   "file_extension": ".py",
   "mimetype": "text/x-python",
   "name": "python",
   "nbconvert_exporter": "python",
   "pygments_lexer": "ipython3",
   "version": "3.7.6"
  }
 },
 "nbformat": 4,
 "nbformat_minor": 4
}
